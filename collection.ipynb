# conda activate gradle
# conda deactivate

import os
import numpy as np
import pandas as pd

def load_data():
    return pd.read_csv(os.path.join('data', 'all_data.csv'))

df = load_data()
df.dtypes

df.head()

# Exploratory data analysis
